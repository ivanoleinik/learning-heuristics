{
 "cells": [
  {
   "cell_type": "code",
   "execution_count": 1,
   "id": "85fd1423",
   "metadata": {},
   "outputs": [],
   "source": [
    "!pip install git+https://github.com/qubvel/segmentation_models.pytorch"
   ]
  },
  {
   "cell_type": "code",
   "execution_count": 2,
   "id": "0a36e1b3",
   "metadata": {},
   "outputs": [],
   "source": [
    "import os\n",
    "import heapq\n",
    "import random\n",
    "import numpy as np\n",
    "import pandas as pd\n",
    "import torch\n",
    "import torch.nn as nn\n",
    "import torch.optim as optim\n",
    "import torch.nn.functional as F\n",
    "import torch.utils.data\n",
    "from tqdm.auto import tqdm\n",
    "from tqdm import trange\n",
    "import matplotlib.pyplot as plt\n",
    "%matplotlib inline\n",
    "from IPython.display import clear_output\n",
    "from PIL import Image, ImageDraw\n",
    "from segmentation_models_pytorch import *"
   ]
  },
  {
   "cell_type": "code",
   "execution_count": 3,
   "id": "59d95b2f",
   "metadata": {},
   "outputs": [],
   "source": [
    "EPS = 1e-10\n",
    "SEED = 1337\n",
    "SIZE = 64\n",
    "\n",
    "def fixSeeds(seed):\n",
    "    random.seed(seed)\n",
    "    np.random.seed(seed)\n",
    "    torch.manual_seed(seed)\n",
    "\n",
    "torch.backends.cudnn.deterministic = True\n",
    "torch.backends.cudnn.benchmark = False\n",
    "fixSeeds(SEED)"
   ]
  },
  {
   "cell_type": "markdown",
   "id": "5ad9ec6e",
   "metadata": {},
   "source": [
    "### Speciify paths to the train data (input and target tensors)\n",
    "\n",
    "'4' at the end of the name of a variable means that 4-connected maps are considered, '8' means that 8-connected maps are considered."
   ]
  },
  {
   "cell_type": "code",
   "execution_count": 4,
   "id": "5f6a1b4b",
   "metadata": {},
   "outputs": [],
   "source": [
    "TRAIN = 'data/train data/inputs'\n",
    "TARGET4 = 'data/train data/target4'\n",
    "TARGET8 = 'data/train data/target8'"
   ]
  },
  {
   "cell_type": "markdown",
   "id": "a82d8faa",
   "metadata": {},
   "source": [
    "### Load data"
   ]
  },
  {
   "cell_type": "code",
   "execution_count": 5,
   "id": "3b2ea368",
   "metadata": {},
   "outputs": [],
   "source": [
    "def load(path):\n",
    "    return torch.stack([torch.load(os.path.join(path, f))\n",
    "                        for f in tqdm([files[:100] for _, _, files in os.walk(path)][0])])\n",
    "\n",
    "X = load(TRAIN).to(torch.float32)\n",
    "y4 = load(TARGET4).reshape((-1, 1, SIZE, SIZE)).to(torch.float32)\n",
    "y8 = load(TARGET8).reshape((-1, 1, SIZE, SIZE)).to(torch.float32)"
   ]
  },
  {
   "cell_type": "code",
   "execution_count": 6,
   "id": "fe5435c6",
   "metadata": {},
   "outputs": [],
   "source": [
    "aY = torch.broadcast_to(torch.arange(0, SIZE), (SIZE, SIZE))\n",
    "aX = torch.transpose(aY, 0, 1)\n",
    "\n",
    "def getGoalX(t):\n",
    "    \"\"\"return the coordinates of the goal pose by an input tensor\"\"\"\n",
    "    return (t == 1).nonzero()\n",
    "\n",
    "def manhattanH(goalX, goalY, scale=1.0):\n",
    "    \"\"\"manhattan distance\"\"\"\n",
    "    return scale * (torch.abs(aX - goalX) + torch.abs(aY - goalY))\n",
    "\n",
    "def diagonalH(goalX, goalY, scale=1.0):\n",
    "    \"\"\"diagonal distance\"\"\"\n",
    "    dx, dy = torch.abs(aX - goalX), torch.abs(aY - goalY)\n",
    "    return scale * (dx + dy + (np.sqrt(2) - 2) * torch.min(dx, dy))"
   ]
  },
  {
   "cell_type": "code",
   "execution_count": 7,
   "id": "0251f534",
   "metadata": {},
   "outputs": [],
   "source": [
    "dataset4 = torch.utils.data.TensorDataset(X, y4)\n",
    "dataset8 = torch.utils.data.TensorDataset(X, y8)\n",
    "\n",
    "def get_data(dataset):\n",
    "    \"\"\"split dataset to train, validation, and test parts\n",
    "       train (80%), validation (10%), test (10%)\n",
    "    \"\"\"\n",
    "    fixSeeds(SEED)\n",
    "    train, val, test = [], [], {}\n",
    "    \n",
    "    val_size = len(dataset) // 5\n",
    "    train_size = len(dataset) - val_size\n",
    "    train_data, val_data = torch.utils.data.random_split(\n",
    "        dataset,\n",
    "        [train_size, val_size],\n",
    "        generator=torch.Generator().manual_seed(42),\n",
    "    )\n",
    "\n",
    "    val_data, test_data = torch.utils.data.random_split(\n",
    "        val_data,\n",
    "        [val_size // 2, val_size - val_size // 2],\n",
    "        generator=torch.Generator().manual_seed(42),\n",
    "    )\n",
    "    train.append(train_data)\n",
    "    val.append(val_data)\n",
    "    test = test_data\n",
    "    return torch.utils.data.ConcatDataset(train), torch.utils.data.ConcatDataset(val), test\n",
    "\n",
    "train_data4, val_data4, test_data4 = get_data(dataset4)\n",
    "train_data8, val_data8, test_data8 = get_data(dataset8)\n",
    "\n",
    "train_loader4 = torch.utils.data.DataLoader(train_data4, batch_size=128, shuffle=True)\n",
    "val_loader4 = torch.utils.data.DataLoader(val_data4, batch_size=128)\n",
    "test_loader4 = torch.utils.data.DataLoader(test_data4, batch_size=1)\n",
    "\n",
    "train_loader8 = torch.utils.data.DataLoader(train_data8, batch_size=128, shuffle=True)\n",
    "val_loader8 = torch.utils.data.DataLoader(val_data8, batch_size=128)\n",
    "test_loader8 = torch.utils.data.DataLoader(test_data8, batch_size=1)"
   ]
  },
  {
   "cell_type": "markdown",
   "id": "46618cee",
   "metadata": {},
   "source": [
    "### Visualize data"
   ]
  },
  {
   "cell_type": "code",
   "execution_count": 8,
   "id": "24e80ac1",
   "metadata": {},
   "outputs": [],
   "source": [
    "plt.rcParams.update({'font.size': 15})\n",
    "\n",
    "for i, (X, y) in enumerate(train_loader8):\n",
    "    if i > 2:\n",
    "        break\n",
    "    fig, (ax1, ax2, ax3) = plt.subplots(1, 3, constrained_layout=True, figsize=(15, 15))\n",
    "    ax1.set_title('occupancy map')\n",
    "    ax1.imshow(X[0, 0], cmap='gist_yarg')\n",
    "    ax2.set_title('goal pose tensor')\n",
    "    ax2.imshow(X[0, 1], cmap='gist_yarg')\n",
    "    ax3.set_title('target heuristic')\n",
    "    ax3.imshow(y[0, 0], cmap='hot')"
   ]
  },
  {
   "cell_type": "code",
   "execution_count": 9,
   "id": "7796a62d",
   "metadata": {},
   "outputs": [],
   "source": [
    "device = \"cuda\" if torch.cuda.is_available() else \"cpu\"\n",
    "print(\"Using {} device\".format(device))"
   ]
  },
  {
   "cell_type": "code",
   "execution_count": 10,
   "id": "2bd98d8b",
   "metadata": {},
   "outputs": [],
   "source": [
    "def tanh2val(x):\n",
    "    \"\"\"convert a NN's output to the heuristic values\"\"\"\n",
    "    return (x + 1) * SIZE ** 2 / 2"
   ]
  },
  {
   "cell_type": "markdown",
   "id": "81b75029",
   "metadata": {},
   "source": [
    "### Learning process"
   ]
  },
  {
   "cell_type": "code",
   "execution_count": 11,
   "id": "64267b51",
   "metadata": {},
   "outputs": [],
   "source": [
    "def show_progress(t, fig_name=None):\n",
    "    clear_output(wait=True)\n",
    "    fig, ax = plt.subplots(1, 1, constrained_layout=True, figsize=(15, 8))\n",
    "    ax.set_title('loss')\n",
    "    ax.set_xlabel('time (epochs)')\n",
    "    ax.set_ylabel('loss')\n",
    "    ax.plot(train_ts, train_loss, c='darkblue', lw=3)\n",
    "    ax.plot(val_ts, val_loss, c='green', marker='o', lw=5)\n",
    "    if fig_name:\n",
    "        fig.savefig(f'{fig_name}.jpg', bbox_inches='tight')\n",
    "    plt.show()"
   ]
  },
  {
   "cell_type": "code",
   "execution_count": 12,
   "id": "e716e19e",
   "metadata": {},
   "outputs": [],
   "source": [
    "def train(epoch, dataloader, model, loss_fn, optimizer):\n",
    "    model.train()\n",
    "    num_batches = len(dataloader)\n",
    "    for batch, (X, y) in enumerate(dataloader):\n",
    "        # Send data to training device\n",
    "        X, y = X.to(device), y.to(device)\n",
    "        # Compute prediction error\n",
    "        pred = tanh2val(model(X))\n",
    "        loss = loss_fn(pred, y)\n",
    "        # Backpropagation\n",
    "        optimizer.zero_grad()\n",
    "        loss.backward()\n",
    "        optimizer.step()\n",
    "        # Progress output\n",
    "        if loss.item() < 15 and batch % interval == 0:\n",
    "            t = epoch + (batch + 1)/num_batches\n",
    "            train_ts.append(t)\n",
    "            train_loss.append(loss.item())\n",
    "            show_progress(t)"
   ]
  },
  {
   "cell_type": "code",
   "execution_count": 13,
   "id": "b4eec425",
   "metadata": {},
   "outputs": [],
   "source": [
    "def test(epoch, dataloader, model, loss_fn, fig_name=None):\n",
    "    model.eval()\n",
    "    num_batches = len(dataloader)\n",
    "    size = len(dataloader.dataset)\n",
    "    test_loss = 0\n",
    "    with torch.no_grad():\n",
    "        for X, y in dataloader:\n",
    "            X, y = X.to(device), y.to(device)\n",
    "            pred = tanh2val(model(X))\n",
    "            test_loss += loss_fn(pred, y).item()\n",
    "    if test_loss / num_batches < 15:\n",
    "        test_loss /= num_batches\n",
    "        val_ts.append(epoch+1)\n",
    "        val_loss.append(test_loss)\n",
    "        show_progress(epoch+1, fig_name)"
   ]
  },
  {
   "cell_type": "markdown",
   "id": "0888b164",
   "metadata": {},
   "source": [
    "### Model"
   ]
  },
  {
   "cell_type": "code",
   "execution_count": 14,
   "id": "fc6e781d",
   "metadata": {},
   "outputs": [],
   "source": [
    "MODEL = 'model'"
   ]
  },
  {
   "cell_type": "code",
   "execution_count": 15,
   "id": "d1d0a6b7",
   "metadata": {},
   "outputs": [],
   "source": [
    "interval = 10\n",
    "train_ts, train_loss = [], []\n",
    "val_ts, val_loss = [], []\n",
    "\n",
    "def MAELoss(output, target):\n",
    "    mask = target > -.5\n",
    "    return torch.mean(torch.abs(output[mask] - target[mask]))\n",
    "\n",
    "class Model:\n",
    "    def __init__(self, filename, loss_fn, epochs=200):\n",
    "        self.loss_fn = loss_fn\n",
    "        self.epochs = epochs\n",
    "        fixSeeds(SEED)\n",
    "        self.net = UnetPlusPlus(\n",
    "            encoder_name='efficientnet-b2',\n",
    "            encoder_weights=None,\n",
    "            in_channels=2,\n",
    "            activation='tanh'\n",
    "        ).to(device)\n",
    "        self.metric = 0\n",
    "        self.filename=filename\n",
    "        \n",
    "    def fit(self, train_loader, val_loader, interval=10):\n",
    "        optimizer = torch.optim.Adam([\n",
    "            {'params': self.net.decoder.parameters(), 'lr': 1e-2},\n",
    "            {'params': self.net.encoder.parameters(), 'lr': 1e-3},\n",
    "        ])\n",
    "        scheduler = torch.optim.lr_scheduler.CosineAnnealingLR(optimizer, self.epochs)\n",
    "        \n",
    "        global train_ts, train_loss\n",
    "        global val_ts, val_loss\n",
    "        train_ts, train_loss = [], []\n",
    "        val_ts, val_loss = [], []\n",
    "        for t in trange(self.epochs):\n",
    "            train(t, train_loader, self.net, self.loss_fn, optimizer)\n",
    "            test(t, val_loader, self.net, self.loss_fn, self.loss_fn.__name__ if t == self.epochs - 1 else None)\n",
    "            scheduler.step()\n",
    "        torch.save(self.net.state_dict(), os.path.join(MODEL, filename))\n",
    "            \n",
    "    def predict(self, X):\n",
    "        self.net.eval()\n",
    "        with torch.no_grad():\n",
    "            pred = tanh2val(self.net(X))\n",
    "        return pred"
   ]
  },
  {
   "cell_type": "code",
   "execution_count": 16,
   "id": "ce8ac43f",
   "metadata": {},
   "outputs": [],
   "source": [
    "ModelMAE8 = Model('model_8conn.pt', MAELoss)\n",
    "ModelMAE8.fit(train_loader8, val_loader8)"
   ]
  },
  {
   "cell_type": "code",
   "execution_count": 17,
   "id": "929ffadb",
   "metadata": {},
   "outputs": [],
   "source": [
    "ModelMAE4 = Model('model_4conn.pt', MAELoss)\n",
    "ModelMAE4.fit(train_loader4, val_loader4)"
   ]
  }
 ],
 "metadata": {
  "kernelspec": {
   "display_name": "Python 3 (ipykernel)",
   "language": "python",
   "name": "python3"
  },
  "language_info": {
   "codemirror_mode": {
    "name": "ipython",
    "version": 3
   },
   "file_extension": ".py",
   "mimetype": "text/x-python",
   "name": "python",
   "nbconvert_exporter": "python",
   "pygments_lexer": "ipython3",
   "version": "3.8.3"
  }
 },
 "nbformat": 4,
 "nbformat_minor": 5
}
