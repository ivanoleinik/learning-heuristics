{
 "cells": [
  {
   "cell_type": "code",
   "execution_count": 5,
   "id": "85fd1423",
   "metadata": {},
   "outputs": [
    {
     "name": "stdout",
     "output_type": "stream",
     "text": [
      "Collecting git+https://github.com/qubvel/segmentation_models.pytorch\n",
      "  Cloning https://github.com/qubvel/segmentation_models.pytorch to /private/var/folders/jc/1tpd4mn55nd4g3zr2nn7jm7c0000gn/T/pip-req-build-dnmwd1xy\n",
      "  Running command git clone -q https://github.com/qubvel/segmentation_models.pytorch /private/var/folders/jc/1tpd4mn55nd4g3zr2nn7jm7c0000gn/T/pip-req-build-dnmwd1xy\n",
      "  Resolved https://github.com/qubvel/segmentation_models.pytorch to commit 740dab561ccf54a9ae4bb5bda3b8b18df3790025\n",
      "  Installing build dependencies ... \u001b[?25ldone\n",
      "\u001b[?25h  Getting requirements to build wheel ... \u001b[?25ldone\n",
      "\u001b[?25h    Preparing wheel metadata ... \u001b[?25ldone\n",
      "\u001b[?25hRequirement already satisfied: torchvision>=0.5.0 in /Users/ivanoleinik/opt/anaconda3/lib/python3.8/site-packages (from segmentation-models-pytorch==0.3.0.dev0) (0.11.1)\n",
      "Requirement already satisfied: timm==0.4.12 in /Users/ivanoleinik/opt/anaconda3/lib/python3.8/site-packages (from segmentation-models-pytorch==0.3.0.dev0) (0.4.12)\n",
      "Requirement already satisfied: pretrainedmodels==0.7.4 in /Users/ivanoleinik/opt/anaconda3/lib/python3.8/site-packages (from segmentation-models-pytorch==0.3.0.dev0) (0.7.4)\n",
      "Requirement already satisfied: tqdm in /Users/ivanoleinik/opt/anaconda3/lib/python3.8/site-packages (from segmentation-models-pytorch==0.3.0.dev0) (4.62.3)\n",
      "Requirement already satisfied: efficientnet-pytorch==0.6.3 in /Users/ivanoleinik/opt/anaconda3/lib/python3.8/site-packages (from segmentation-models-pytorch==0.3.0.dev0) (0.6.3)\n",
      "Requirement already satisfied: pillow in /Users/ivanoleinik/opt/anaconda3/lib/python3.8/site-packages (from segmentation-models-pytorch==0.3.0.dev0) (8.4.0)\n",
      "Requirement already satisfied: torch in /Users/ivanoleinik/opt/anaconda3/lib/python3.8/site-packages (from efficientnet-pytorch==0.6.3->segmentation-models-pytorch==0.3.0.dev0) (1.10.0)\n",
      "Requirement already satisfied: munch in /Users/ivanoleinik/opt/anaconda3/lib/python3.8/site-packages (from pretrainedmodels==0.7.4->segmentation-models-pytorch==0.3.0.dev0) (2.5.0)\n",
      "Requirement already satisfied: typing-extensions in /Users/ivanoleinik/opt/anaconda3/lib/python3.8/site-packages (from torch->efficientnet-pytorch==0.6.3->segmentation-models-pytorch==0.3.0.dev0) (3.10.0.2)\n",
      "Requirement already satisfied: numpy in /Users/ivanoleinik/opt/anaconda3/lib/python3.8/site-packages (from torchvision>=0.5.0->segmentation-models-pytorch==0.3.0.dev0) (1.21.2)\n",
      "Requirement already satisfied: six in /Users/ivanoleinik/opt/anaconda3/lib/python3.8/site-packages (from munch->pretrainedmodels==0.7.4->segmentation-models-pytorch==0.3.0.dev0) (1.16.0)\n",
      "\u001b[33mWARNING: You are using pip version 21.3.1; however, version 22.0.4 is available.\n",
      "You should consider upgrading via the '/Users/ivanoleinik/opt/anaconda3/bin/python -m pip install --upgrade pip' command.\u001b[0m\n"
     ]
    }
   ],
   "source": [
    "!pip install git+https://github.com/qubvel/segmentation_models.pytorch"
   ]
  },
  {
   "cell_type": "code",
   "execution_count": 6,
   "id": "0a36e1b3",
   "metadata": {},
   "outputs": [],
   "source": [
    "import os\n",
    "import heapq\n",
    "import random\n",
    "import numpy as np\n",
    "import pandas as pd\n",
    "import torch\n",
    "import torch.nn as nn\n",
    "import torch.optim as optim\n",
    "import torch.nn.functional as F\n",
    "import torch.utils.data\n",
    "from tqdm.auto import tqdm\n",
    "from tqdm import trange\n",
    "import matplotlib.pyplot as plt\n",
    "%matplotlib inline\n",
    "from IPython.display import clear_output\n",
    "from PIL import Image, ImageDraw\n",
    "from segmentation_models_pytorch import *"
   ]
  },
  {
   "cell_type": "code",
   "execution_count": 7,
   "id": "59d95b2f",
   "metadata": {},
   "outputs": [],
   "source": [
    "EPS = 1e-10\n",
    "SEED = 1337\n",
    "SIZE = 64\n",
    "\n",
    "def fixSeeds(seed):\n",
    "    random.seed(seed)\n",
    "    np.random.seed(seed)\n",
    "    torch.manual_seed(seed)\n",
    "\n",
    "torch.backends.cudnn.deterministic = True\n",
    "torch.backends.cudnn.benchmark = False\n",
    "fixSeeds(SEED)"
   ]
  },
  {
   "cell_type": "markdown",
   "id": "5ad9ec6e",
   "metadata": {},
   "source": [
    "### Speciify paths to the train data (input and target tensors)\n",
    "\n",
    "'4' at the end of the name of a variable means that 4-connected maps are considered, '8' means that 8-connected maps are considered."
   ]
  },
  {
   "cell_type": "code",
   "execution_count": 8,
   "id": "5f6a1b4b",
   "metadata": {},
   "outputs": [],
   "source": [
    "TRAIN = 'data/train data/inputs'\n",
    "TARGET4 = 'data/train data/target4'\n",
    "TARGET8 = 'data/train data/target8'"
   ]
  },
  {
   "cell_type": "markdown",
   "id": "a82d8faa",
   "metadata": {},
   "source": [
    "### Load data"
   ]
  },
  {
   "cell_type": "code",
   "execution_count": 22,
   "id": "3b2ea368",
   "metadata": {},
   "outputs": [
    {
     "data": {
      "application/vnd.jupyter.widget-view+json": {
       "model_id": "848dc3f418264c5abf56f8ad3540600a",
       "version_major": 2,
       "version_minor": 0
      },
      "text/plain": [
       "  0%|          | 0/100 [00:00<?, ?it/s]"
      ]
     },
     "metadata": {},
     "output_type": "display_data"
    },
    {
     "data": {
      "application/vnd.jupyter.widget-view+json": {
       "model_id": "7298a4d98c1a4e7e85b71dbb73730eae",
       "version_major": 2,
       "version_minor": 0
      },
      "text/plain": [
       "  0%|          | 0/100 [00:00<?, ?it/s]"
      ]
     },
     "metadata": {},
     "output_type": "display_data"
    },
    {
     "data": {
      "application/vnd.jupyter.widget-view+json": {
       "model_id": "ff5ad658197544d28009c6d160119fd4",
       "version_major": 2,
       "version_minor": 0
      },
      "text/plain": [
       "  0%|          | 0/100 [00:00<?, ?it/s]"
      ]
     },
     "metadata": {},
     "output_type": "display_data"
    }
   ],
   "source": [
    "def load(path):\n",
    "    return torch.stack([torch.load(os.path.join(path, f))\n",
    "                        for f in tqdm([files[:100] for _, _, files in os.walk(path)][0])])\n",
    "\n",
    "X = load(TRAIN).to(torch.float32)\n",
    "y4 = load(TARGET4).reshape((-1, 1, SIZE, SIZE)).to(torch.float32)\n",
    "y8 = load(TARGET8).reshape((-1, 1, SIZE, SIZE)).to(torch.float32)"
   ]
  },
  {
   "cell_type": "code",
   "execution_count": 23,
   "id": "fe5435c6",
   "metadata": {},
   "outputs": [],
   "source": [
    "aY = torch.broadcast_to(torch.arange(0, SIZE), (SIZE, SIZE))\n",
    "aX = torch.transpose(aY, 0, 1)\n",
    "\n",
    "def getGoalX(t):\n",
    "    \"\"\"return the coordinates of the goal pose by an input tensor\"\"\"\n",
    "    return (t == 1).nonzero()\n",
    "\n",
    "def manhattanH(goalX, goalY, scale=1.0):\n",
    "    \"\"\"manhattan distance\"\"\"\n",
    "    return scale * (torch.abs(aX - goalX) + torch.abs(aY - goalY))\n",
    "\n",
    "def diagonalH(goalX, goalY, scale=1.0):\n",
    "    \"\"\"diagonal distance\"\"\"\n",
    "    dx, dy = torch.abs(aX - goalX), torch.abs(aY - goalY)\n",
    "    return scale * (dx + dy + (np.sqrt(2) - 2) * torch.min(dx, dy))"
   ]
  },
  {
   "cell_type": "code",
   "execution_count": 24,
   "id": "0251f534",
   "metadata": {},
   "outputs": [],
   "source": [
    "dataset4 = torch.utils.data.TensorDataset(X, y4)\n",
    "dataset8 = torch.utils.data.TensorDataset(X, y8)\n",
    "\n",
    "def get_data(dataset):\n",
    "    \"\"\"split dataset to train, validation, and test parts\n",
    "       train (80%), validation (10%), test (10%)\n",
    "    \"\"\"\n",
    "    fixSeeds(SEED)\n",
    "    train, val, test = [], [], {}\n",
    "    \n",
    "    val_size = len(dataset) // 5\n",
    "    train_size = len(dataset) - val_size\n",
    "    train_data, val_data = torch.utils.data.random_split(\n",
    "        dataset,\n",
    "        [train_size, val_size],\n",
    "        generator=torch.Generator().manual_seed(42),\n",
    "    )\n",
    "\n",
    "    val_data, test_data = torch.utils.data.random_split(\n",
    "        val_data,\n",
    "        [val_size // 2, val_size - val_size // 2],\n",
    "        generator=torch.Generator().manual_seed(42),\n",
    "    )\n",
    "    train.append(train_data)\n",
    "    val.append(val_data)\n",
    "    test = test_data\n",
    "    return torch.utils.data.ConcatDataset(train), torch.utils.data.ConcatDataset(val), test\n",
    "\n",
    "train_data4, val_data4, test_data4 = get_data(dataset4)\n",
    "train_data8, val_data8, test_data8 = get_data(dataset8)\n",
    "\n",
    "train_loader4 = torch.utils.data.DataLoader(train_data4, batch_size=128, shuffle=True)\n",
    "val_loader4 = torch.utils.data.DataLoader(val_data4, batch_size=128)\n",
    "test_loader4 = torch.utils.data.DataLoader(test_data4, batch_size=1)\n",
    "\n",
    "train_loader8 = torch.utils.data.DataLoader(train_data8, batch_size=128, shuffle=True)\n",
    "val_loader8 = torch.utils.data.DataLoader(val_data8, batch_size=128)\n",
    "test_loader8 = torch.utils.data.DataLoader(test_data8, batch_size=1)"
   ]
  },
  {
   "cell_type": "markdown",
   "id": "46618cee",
   "metadata": {},
   "source": [
    "### Visualize data"
   ]
  },
  {
   "cell_type": "code",
   "execution_count": 25,
   "id": "24e80ac1",
   "metadata": {},
   "outputs": [
    {
     "data": {
      "image/png": "[encoded data removed]",
      "text/plain": [
       "<Figure size 1080x1080 with 3 Axes>"
      ]
     },
     "metadata": {
      "needs_background": "light"
     },
     "output_type": "display_data"
    }
   ],
   "source": [
    "plt.rcParams.update({'font.size': 15})\n",
    "\n",
    "for i, (X, y) in enumerate(train_loader8):\n",
    "    if i > 2:\n",
    "        break\n",
    "    fig, (ax1, ax2, ax3) = plt.subplots(1, 3, constrained_layout=True, figsize=(15, 15))\n",
    "    ax1.set_title('occupancy map')\n",
    "    ax1.imshow(X[0, 0], cmap='gist_yarg')\n",
    "    ax2.set_title('goal pose tensor')\n",
    "    ax2.imshow(X[0, 1], cmap='gist_yarg')\n",
    "    ax3.set_title('target heuristic')\n",
    "    ax3.imshow(y[0, 0], cmap='hot')"
   ]
  },
  {
   "cell_type": "code",
   "execution_count": 26,
   "id": "7796a62d",
   "metadata": {},
   "outputs": [
    {
     "name": "stdout",
     "output_type": "stream",
     "text": [
      "Using cpu device\n"
     ]
    }
   ],
   "source": [
    "device = \"cuda\" if torch.cuda.is_available() else \"cpu\"\n",
    "print(\"Using {} device\".format(device))"
   ]
  },
  {
   "cell_type": "code",
   "execution_count": 27,
   "id": "2bd98d8b",
   "metadata": {},
   "outputs": [],
   "source": [
    "def tanh2val(x):\n",
    "    \"\"\"convert a NN's output to the heuristic values\"\"\"\n",
    "    return (x + 1) * SIZE ** 2 / 2"
   ]
  },
  {
   "cell_type": "markdown",
   "id": "81b75029",
   "metadata": {},
   "source": [
    "### Learning process"
   ]
  },
  {
   "cell_type": "code",
   "execution_count": 28,
   "id": "64267b51",
   "metadata": {},
   "outputs": [],
   "source": [
    "def show_progress(t, fig_name=None):\n",
    "    clear_output(wait=True)\n",
    "    fig, ax = plt.subplots(1, 1, constrained_layout=True, figsize=(15, 8))\n",
    "    ax.set_title('loss')\n",
    "    ax.set_xlabel('time (epochs)')\n",
    "    ax.set_ylabel('loss')\n",
    "    ax.plot(train_ts, train_loss, c='darkblue', lw=3)\n",
    "    ax.plot(val_ts, val_loss, c='green', marker='o', lw=5)\n",
    "    if fig_name:\n",
    "        fig.savefig(f'{fig_name}.jpg', bbox_inches='tight')\n",
    "    plt.show()"
   ]
  },
  {
   "cell_type": "code",
   "execution_count": 34,
   "id": "e716e19e",
   "metadata": {},
   "outputs": [],
   "source": [
    "def train(epoch, dataloader, model, loss_fn, optimizer):\n",
    "    model.train()\n",
    "    num_batches = len(dataloader)\n",
    "    for batch, (X, y) in enumerate(dataloader):\n",
    "        # Send data to training device\n",
    "        X, y = X.to(device), y.to(device)\n",
    "        # Compute prediction error\n",
    "        pred = tanh2val(model(X))\n",
    "        loss = loss_fn(pred, y)\n",
    "        # Backpropagation\n",
    "        optimizer.zero_grad()\n",
    "        loss.backward()\n",
    "        optimizer.step()\n",
    "        # Progress output\n",
    "        if loss.item() < 15 and batch % interval == 0:\n",
    "            t = epoch + (batch + 1)/num_batches\n",
    "            train_ts.append(t)\n",
    "            train_loss.append(loss.item())\n",
    "            show_progress(t)"
   ]
  },
  {
   "cell_type": "code",
   "execution_count": 35,
   "id": "b4eec425",
   "metadata": {},
   "outputs": [],
   "source": [
    "def test(epoch, dataloader, model, loss_fn, fig_name=None):\n",
    "    model.eval()\n",
    "    num_batches = len(dataloader)\n",
    "    size = len(dataloader.dataset)\n",
    "    test_loss = 0\n",
    "    with torch.no_grad():\n",
    "        for X, y in dataloader:\n",
    "            X, y = X.to(device), y.to(device)\n",
    "            pred = tanh2val(model(X))\n",
    "            test_loss += loss_fn(pred, y).item()\n",
    "    if test_loss / num_batches < 15:\n",
    "        test_loss /= num_batches\n",
    "        val_ts.append(epoch+1)\n",
    "        val_loss.append(test_loss)\n",
    "        show_progress(epoch+1, fig_name)"
   ]
  },
  {
   "cell_type": "markdown",
   "id": "0888b164",
   "metadata": {},
   "source": [
    "### Model"
   ]
  },
  {
   "cell_type": "code",
   "execution_count": 36,
   "id": "fc6e781d",
   "metadata": {},
   "outputs": [],
   "source": [
    "MODEL = 'model'"
   ]
  },
  {
   "cell_type": "code",
   "execution_count": 37,
   "id": "d1d0a6b7",
   "metadata": {},
   "outputs": [],
   "source": [
    "interval = 10\n",
    "train_ts, train_loss = [], []\n",
    "val_ts, val_loss = [], []\n",
    "\n",
    "def MAELoss(output, target):\n",
    "    mask = target > -.5\n",
    "    return torch.mean(torch.abs(output[mask] - target[mask]))\n",
    "\n",
    "class Model:\n",
    "    def __init__(self, filename, loss_fn, epochs=200):\n",
    "        self.loss_fn = loss_fn\n",
    "        self.epochs = epochs\n",
    "        fixSeeds(SEED)\n",
    "        self.net = UnetPlusPlus(\n",
    "            encoder_name='efficientnet-b2',\n",
    "            encoder_weights=None,\n",
    "            in_channels=2,\n",
    "            activation='tanh'\n",
    "        ).to(device)\n",
    "        self.metric = 0\n",
    "        self.filename=filename\n",
    "        \n",
    "    def fit(self, train_loader, val_loader, interval=10):\n",
    "        optimizer = torch.optim.Adam([\n",
    "            {'params': self.net.decoder.parameters(), 'lr': 1e-2},\n",
    "            {'params': self.net.encoder.parameters(), 'lr': 1e-3},\n",
    "        ])\n",
    "        scheduler = torch.optim.lr_scheduler.CosineAnnealingLR(optimizer, self.epochs)\n",
    "        \n",
    "        global train_ts, train_loss\n",
    "        global val_ts, val_loss\n",
    "        train_ts, train_loss = [], []\n",
    "        val_ts, val_loss = [], []\n",
    "        for t in trange(self.epochs):\n",
    "            train(t, train_loader, self.net, self.loss_fn, optimizer)\n",
    "            test(t, val_loader, self.net, self.loss_fn, self.loss_fn.__name__ if t == self.epochs - 1 else None)\n",
    "            scheduler.step()\n",
    "        torch.save(self.net.state_dict(), os.path.join(MODEL, filename))\n",
    "            \n",
    "    def predict(self, X):\n",
    "        self.net.eval()\n",
    "        with torch.no_grad():\n",
    "            pred = tanh2val(self.net(X))\n",
    "        return pred"
   ]
  },
  {
   "cell_type": "code",
   "execution_count": 38,
   "id": "ce8ac43f",
   "metadata": {},
   "outputs": [
    {
     "name": "stderr",
     "output_type": "stream",
     "text": [
      "\r",
      "  0%|                                                   | 0/200 [00:00<?, ?it/s]"
     ]
    },
    {
     "name": "stdout",
     "output_type": "stream",
     "text": [
      "epoch: 0, batch: 1/1, train loss: 2403.786376953125\n"
     ]
    },
    {
     "name": "stderr",
     "output_type": "stream",
     "text": [
      "\r",
      "  0%|▏                                          | 1/200 [00:07<24:53,  7.50s/it]"
     ]
    },
    {
     "name": "stdout",
     "output_type": "stream",
     "text": [
      "epoch: 1, batch: 1/1, train loss: 1553.0823974609375\n"
     ]
    },
    {
     "name": "stderr",
     "output_type": "stream",
     "text": [
      "  1%|▍                                          | 2/200 [00:18<30:29,  9.24s/it]\n"
     ]
    },
    {
     "ename": "KeyboardInterrupt",
     "evalue": "",
     "output_type": "error",
     "traceback": [
      "\u001b[0;31m---------------------------------------------------------------------------\u001b[0m",
      "\u001b[0;31mKeyboardInterrupt\u001b[0m                         Traceback (most recent call last)",
      "\u001b[0;32m/var/folders/jc/1tpd4mn55nd4g3zr2nn7jm7c0000gn/T/ipykernel_36598/3885866995.py\u001b[0m in \u001b[0;36m<module>\u001b[0;34m\u001b[0m\n\u001b[1;32m      1\u001b[0m \u001b[0mModelMAE8\u001b[0m \u001b[0;34m=\u001b[0m \u001b[0mModel\u001b[0m\u001b[0;34m(\u001b[0m\u001b[0;34m'model.pt'\u001b[0m\u001b[0;34m,\u001b[0m \u001b[0mMAELoss\u001b[0m\u001b[0;34m)\u001b[0m\u001b[0;34m\u001b[0m\u001b[0;34m\u001b[0m\u001b[0m\n\u001b[0;32m----> 2\u001b[0;31m \u001b[0mModelMAE8\u001b[0m\u001b[0;34m.\u001b[0m\u001b[0mfit\u001b[0m\u001b[0;34m(\u001b[0m\u001b[0mtrain_loader8\u001b[0m\u001b[0;34m,\u001b[0m \u001b[0mval_loader8\u001b[0m\u001b[0;34m)\u001b[0m\u001b[0;34m\u001b[0m\u001b[0;34m\u001b[0m\u001b[0m\n\u001b[0m",
      "\u001b[0;32m/var/folders/jc/1tpd4mn55nd4g3zr2nn7jm7c0000gn/T/ipykernel_36598/2436732018.py\u001b[0m in \u001b[0;36mfit\u001b[0;34m(self, train_loader, val_loader, interval)\u001b[0m\n\u001b[1;32m     33\u001b[0m         \u001b[0mval_ts\u001b[0m\u001b[0;34m,\u001b[0m \u001b[0mval_loss\u001b[0m \u001b[0;34m=\u001b[0m \u001b[0;34m[\u001b[0m\u001b[0;34m]\u001b[0m\u001b[0;34m,\u001b[0m \u001b[0;34m[\u001b[0m\u001b[0;34m]\u001b[0m\u001b[0;34m\u001b[0m\u001b[0;34m\u001b[0m\u001b[0m\n\u001b[1;32m     34\u001b[0m         \u001b[0;32mfor\u001b[0m \u001b[0mt\u001b[0m \u001b[0;32min\u001b[0m \u001b[0mtrange\u001b[0m\u001b[0;34m(\u001b[0m\u001b[0mself\u001b[0m\u001b[0;34m.\u001b[0m\u001b[0mepochs\u001b[0m\u001b[0;34m)\u001b[0m\u001b[0;34m:\u001b[0m\u001b[0;34m\u001b[0m\u001b[0;34m\u001b[0m\u001b[0m\n\u001b[0;32m---> 35\u001b[0;31m             \u001b[0mtrain\u001b[0m\u001b[0;34m(\u001b[0m\u001b[0mt\u001b[0m\u001b[0;34m,\u001b[0m \u001b[0mtrain_loader\u001b[0m\u001b[0;34m,\u001b[0m \u001b[0mself\u001b[0m\u001b[0;34m.\u001b[0m\u001b[0mnet\u001b[0m\u001b[0;34m,\u001b[0m \u001b[0mself\u001b[0m\u001b[0;34m.\u001b[0m\u001b[0mloss_fn\u001b[0m\u001b[0;34m,\u001b[0m \u001b[0moptimizer\u001b[0m\u001b[0;34m)\u001b[0m\u001b[0;34m\u001b[0m\u001b[0;34m\u001b[0m\u001b[0m\n\u001b[0m\u001b[1;32m     36\u001b[0m             \u001b[0mtest\u001b[0m\u001b[0;34m(\u001b[0m\u001b[0mt\u001b[0m\u001b[0;34m,\u001b[0m \u001b[0mval_loader\u001b[0m\u001b[0;34m,\u001b[0m \u001b[0mself\u001b[0m\u001b[0;34m.\u001b[0m\u001b[0mnet\u001b[0m\u001b[0;34m,\u001b[0m \u001b[0mself\u001b[0m\u001b[0;34m.\u001b[0m\u001b[0mloss_fn\u001b[0m\u001b[0;34m,\u001b[0m \u001b[0mself\u001b[0m\u001b[0;34m.\u001b[0m\u001b[0mloss_fn\u001b[0m\u001b[0;34m.\u001b[0m\u001b[0m__name__\u001b[0m \u001b[0;32mif\u001b[0m \u001b[0mt\u001b[0m \u001b[0;34m==\u001b[0m \u001b[0mself\u001b[0m\u001b[0;34m.\u001b[0m\u001b[0mepochs\u001b[0m \u001b[0;34m-\u001b[0m \u001b[0;36m1\u001b[0m \u001b[0;32melse\u001b[0m \u001b[0;32mNone\u001b[0m\u001b[0;34m)\u001b[0m\u001b[0;34m\u001b[0m\u001b[0;34m\u001b[0m\u001b[0m\n\u001b[1;32m     37\u001b[0m             \u001b[0mscheduler\u001b[0m\u001b[0;34m.\u001b[0m\u001b[0mstep\u001b[0m\u001b[0;34m(\u001b[0m\u001b[0;34m)\u001b[0m\u001b[0;34m\u001b[0m\u001b[0;34m\u001b[0m\u001b[0m\n",
      "\u001b[0;32m/var/folders/jc/1tpd4mn55nd4g3zr2nn7jm7c0000gn/T/ipykernel_36598/3471740347.py\u001b[0m in \u001b[0;36mtrain\u001b[0;34m(epoch, dataloader, model, loss_fn, optimizer)\u001b[0m\n\u001b[1;32m     10\u001b[0m         \u001b[0;31m# Backpropagation\u001b[0m\u001b[0;34m\u001b[0m\u001b[0;34m\u001b[0m\u001b[0;34m\u001b[0m\u001b[0m\n\u001b[1;32m     11\u001b[0m         \u001b[0moptimizer\u001b[0m\u001b[0;34m.\u001b[0m\u001b[0mzero_grad\u001b[0m\u001b[0;34m(\u001b[0m\u001b[0;34m)\u001b[0m\u001b[0;34m\u001b[0m\u001b[0;34m\u001b[0m\u001b[0m\n\u001b[0;32m---> 12\u001b[0;31m         \u001b[0mloss\u001b[0m\u001b[0;34m.\u001b[0m\u001b[0mbackward\u001b[0m\u001b[0;34m(\u001b[0m\u001b[0;34m)\u001b[0m\u001b[0;34m\u001b[0m\u001b[0;34m\u001b[0m\u001b[0m\n\u001b[0m\u001b[1;32m     13\u001b[0m         \u001b[0moptimizer\u001b[0m\u001b[0;34m.\u001b[0m\u001b[0mstep\u001b[0m\u001b[0;34m(\u001b[0m\u001b[0;34m)\u001b[0m\u001b[0;34m\u001b[0m\u001b[0;34m\u001b[0m\u001b[0m\n\u001b[1;32m     14\u001b[0m         \u001b[0;31m# Progress output\u001b[0m\u001b[0;34m\u001b[0m\u001b[0;34m\u001b[0m\u001b[0;34m\u001b[0m\u001b[0m\n",
      "\u001b[0;32m~/opt/anaconda3/lib/python3.8/site-packages/torch/_tensor.py\u001b[0m in \u001b[0;36mbackward\u001b[0;34m(self, gradient, retain_graph, create_graph, inputs)\u001b[0m\n\u001b[1;32m    305\u001b[0m                 \u001b[0mcreate_graph\u001b[0m\u001b[0;34m=\u001b[0m\u001b[0mcreate_graph\u001b[0m\u001b[0;34m,\u001b[0m\u001b[0;34m\u001b[0m\u001b[0;34m\u001b[0m\u001b[0m\n\u001b[1;32m    306\u001b[0m                 inputs=inputs)\n\u001b[0;32m--> 307\u001b[0;31m         \u001b[0mtorch\u001b[0m\u001b[0;34m.\u001b[0m\u001b[0mautograd\u001b[0m\u001b[0;34m.\u001b[0m\u001b[0mbackward\u001b[0m\u001b[0;34m(\u001b[0m\u001b[0mself\u001b[0m\u001b[0;34m,\u001b[0m \u001b[0mgradient\u001b[0m\u001b[0;34m,\u001b[0m \u001b[0mretain_graph\u001b[0m\u001b[0;34m,\u001b[0m \u001b[0mcreate_graph\u001b[0m\u001b[0;34m,\u001b[0m \u001b[0minputs\u001b[0m\u001b[0;34m=\u001b[0m\u001b[0minputs\u001b[0m\u001b[0;34m)\u001b[0m\u001b[0;34m\u001b[0m\u001b[0;34m\u001b[0m\u001b[0m\n\u001b[0m\u001b[1;32m    308\u001b[0m \u001b[0;34m\u001b[0m\u001b[0m\n\u001b[1;32m    309\u001b[0m     \u001b[0;32mdef\u001b[0m \u001b[0mregister_hook\u001b[0m\u001b[0;34m(\u001b[0m\u001b[0mself\u001b[0m\u001b[0;34m,\u001b[0m \u001b[0mhook\u001b[0m\u001b[0;34m)\u001b[0m\u001b[0;34m:\u001b[0m\u001b[0;34m\u001b[0m\u001b[0;34m\u001b[0m\u001b[0m\n",
      "\u001b[0;32m~/opt/anaconda3/lib/python3.8/site-packages/torch/autograd/__init__.py\u001b[0m in \u001b[0;36mbackward\u001b[0;34m(tensors, grad_tensors, retain_graph, create_graph, grad_variables, inputs)\u001b[0m\n\u001b[1;32m    152\u001b[0m         \u001b[0mretain_graph\u001b[0m \u001b[0;34m=\u001b[0m \u001b[0mcreate_graph\u001b[0m\u001b[0;34m\u001b[0m\u001b[0;34m\u001b[0m\u001b[0m\n\u001b[1;32m    153\u001b[0m \u001b[0;34m\u001b[0m\u001b[0m\n\u001b[0;32m--> 154\u001b[0;31m     Variable._execution_engine.run_backward(\n\u001b[0m\u001b[1;32m    155\u001b[0m         \u001b[0mtensors\u001b[0m\u001b[0;34m,\u001b[0m \u001b[0mgrad_tensors_\u001b[0m\u001b[0;34m,\u001b[0m \u001b[0mretain_graph\u001b[0m\u001b[0;34m,\u001b[0m \u001b[0mcreate_graph\u001b[0m\u001b[0;34m,\u001b[0m \u001b[0minputs\u001b[0m\u001b[0;34m,\u001b[0m\u001b[0;34m\u001b[0m\u001b[0;34m\u001b[0m\u001b[0m\n\u001b[1;32m    156\u001b[0m         allow_unreachable=True, accumulate_grad=True)  # allow_unreachable flag\n",
      "\u001b[0;32m~/opt/anaconda3/lib/python3.8/site-packages/torch/autograd/function.py\u001b[0m in \u001b[0;36mapply\u001b[0;34m(self, *args)\u001b[0m\n\u001b[1;32m    187\u001b[0m \u001b[0;34m\u001b[0m\u001b[0m\n\u001b[1;32m    188\u001b[0m \u001b[0;32mclass\u001b[0m \u001b[0mBackwardCFunction\u001b[0m\u001b[0;34m(\u001b[0m\u001b[0m_C\u001b[0m\u001b[0;34m.\u001b[0m\u001b[0m_FunctionBase\u001b[0m\u001b[0;34m,\u001b[0m \u001b[0mFunctionCtx\u001b[0m\u001b[0;34m,\u001b[0m \u001b[0m_HookMixin\u001b[0m\u001b[0;34m)\u001b[0m\u001b[0;34m:\u001b[0m\u001b[0;34m\u001b[0m\u001b[0;34m\u001b[0m\u001b[0m\n\u001b[0;32m--> 189\u001b[0;31m     \u001b[0;32mdef\u001b[0m \u001b[0mapply\u001b[0m\u001b[0;34m(\u001b[0m\u001b[0mself\u001b[0m\u001b[0;34m,\u001b[0m \u001b[0;34m*\u001b[0m\u001b[0margs\u001b[0m\u001b[0;34m)\u001b[0m\u001b[0;34m:\u001b[0m\u001b[0;34m\u001b[0m\u001b[0;34m\u001b[0m\u001b[0m\n\u001b[0m\u001b[1;32m    190\u001b[0m         \u001b[0;31m# _forward_cls is defined by derived class\u001b[0m\u001b[0;34m\u001b[0m\u001b[0;34m\u001b[0m\u001b[0;34m\u001b[0m\u001b[0m\n\u001b[1;32m    191\u001b[0m         \u001b[0;31m# The user should define either backward or vjp but never both.\u001b[0m\u001b[0;34m\u001b[0m\u001b[0;34m\u001b[0m\u001b[0;34m\u001b[0m\u001b[0m\n",
      "\u001b[0;31mKeyboardInterrupt\u001b[0m: "
     ]
    }
   ],
   "source": [
    "ModelMAE8 = Model('model.pt', MAELoss)\n",
    "ModelMAE8.fit(train_loader8, val_loader8)"
   ]
  },
  {
   "cell_type": "code",
   "execution_count": 4,
   "id": "929ffadb",
   "metadata": {},
   "outputs": [
    {
     "ename": "NameError",
     "evalue": "name 'Model' is not defined",
     "output_type": "error",
     "traceback": [
      "\u001b[0;31m---------------------------------------------------------------------------\u001b[0m",
      "\u001b[0;31mNameError\u001b[0m                                 Traceback (most recent call last)",
      "\u001b[0;32m/var/folders/jc/1tpd4mn55nd4g3zr2nn7jm7c0000gn/T/ipykernel_36598/824474385.py\u001b[0m in \u001b[0;36m<module>\u001b[0;34m\u001b[0m\n\u001b[0;32m----> 1\u001b[0;31m \u001b[0mModelMAE4\u001b[0m \u001b[0;34m=\u001b[0m \u001b[0mModel\u001b[0m\u001b[0;34m(\u001b[0m\u001b[0;34m'model_4conn.pt'\u001b[0m\u001b[0;34m,\u001b[0m \u001b[0mMAELoss\u001b[0m\u001b[0;34m)\u001b[0m\u001b[0;34m\u001b[0m\u001b[0;34m\u001b[0m\u001b[0m\n\u001b[0m\u001b[1;32m      2\u001b[0m \u001b[0mModelMAE4\u001b[0m\u001b[0;34m.\u001b[0m\u001b[0mfit\u001b[0m\u001b[0;34m(\u001b[0m\u001b[0mtrain_loader4\u001b[0m\u001b[0;34m,\u001b[0m \u001b[0mval_loader4\u001b[0m\u001b[0;34m)\u001b[0m\u001b[0;34m\u001b[0m\u001b[0;34m\u001b[0m\u001b[0m\n",
      "\u001b[0;31mNameError\u001b[0m: name 'Model' is not defined"
     ]
    }
   ],
   "source": [
    "ModelMAE4 = Model('model_4conn.pt', MAELoss)\n",
    "ModelMAE4.fit(train_loader4, val_loader4)"
   ]
  },
  {
   "cell_type": "code",
   "execution_count": null,
   "id": "7abef94b",
   "metadata": {},
   "outputs": [],
   "source": []
  }
 ],
 "metadata": {
  "kernelspec": {
   "display_name": "Python 3 (ipykernel)",
   "language": "python",
   "name": "python3"
  },
  "language_info": {
   "codemirror_mode": {
    "name": "ipython",
    "version": 3
   },
   "file_extension": ".py",
   "mimetype": "text/x-python",
   "name": "python",
   "nbconvert_exporter": "python",
   "pygments_lexer": "ipython3",
   "version": "3.8.3"
  }
 },
 "nbformat": 4,
 "nbformat_minor": 5
}
